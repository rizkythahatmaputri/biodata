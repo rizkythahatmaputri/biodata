{
  "nbformat": 4,
  "nbformat_minor": 0,
  "metadata": {
    "colab": {
      "provenance": []
    },
    "kernelspec": {
      "name": "python3",
      "display_name": "Python 3"
    },
    "language_info": {
      "name": "python"
    }
  },
  "cells": [
    {
      "cell_type": "code",
      "execution_count": 59,
      "metadata": {
        "id": "fHcTET63hJWI"
      },
      "outputs": [],
      "source": [
        "import math\n",
        "import random as rd\n",
        "import numpy as np"
      ]
    },
    {
      "cell_type": "markdown",
      "source": [
        "nilai fitness"
      ],
      "metadata": {
        "id": "sfB5cYFLhV5h"
      }
    },
    {
      "cell_type": "code",
      "source": [
        "# Menghitung nilai fitness sebagai satu dibagi total jarak\n",
        "def nilaiFitness(kombinasi, node):\n",
        "    total_jarak = 0\n",
        "    for i in range(1, len(kombinasi)):\n",
        "        total_jarak += math.sqrt((node[kombinasi[i]][0] - node[kombinasi[i-1]][0])**2 + (node[kombinasi[i-1]][1] - node[kombinasi[i]][1])**2)\n",
        "    return 1 / total_jarak"
      ],
      "metadata": {
        "id": "Ud5XouWZhXe7"
      },
      "execution_count": 60,
      "outputs": []
    },
    {
      "cell_type": "markdown",
      "source": [
        "seleksi parent"
      ],
      "metadata": {
        "id": "VPJnv5gAhasA"
      }
    },
    {
      "cell_type": "code",
      "source": [
        "# Menggunakan roulette wheel selection untuk memilih orang tua\n",
        "def rouletteWheelSelection(populasi, fitnesses):\n",
        "    total_fitness = sum(fitnesses)\n",
        "    selection_probs = [f / total_fitness for f in fitnesses]\n",
        "    cumulative_probs = np.cumsum(selection_probs)\n",
        "    rand_val = np.random.rand()\n",
        "    for i, cumulative_prob in enumerate(cumulative_probs):\n",
        "        if rand_val < cumulative_prob:\n",
        "            return populasi[i]"
      ],
      "metadata": {
        "id": "x3BGZUc7hbsM"
      },
      "execution_count": 61,
      "outputs": []
    },
    {
      "cell_type": "markdown",
      "source": [
        "generate kromosom"
      ],
      "metadata": {
        "id": "3MJMTLgGhdl4"
      }
    },
    {
      "cell_type": "code",
      "source": [
        "# Membuat kromosom acak\n",
        "def generateKromosom(jumlahPopulasi, panjangKromosom):\n",
        "    populasi = []\n",
        "    for _ in range(jumlahPopulasi):\n",
        "        kromosom = np.arange(panjangKromosom)\n",
        "        np.random.shuffle(kromosom)\n",
        "        populasi.append(list(kromosom))\n",
        "    return populasi"
      ],
      "metadata": {
        "id": "xQRGw-hMhelf"
      },
      "execution_count": 62,
      "outputs": []
    },
    {
      "cell_type": "markdown",
      "source": [
        "crossover"
      ],
      "metadata": {
        "id": "R6oljX2Hhj9c"
      }
    },
    {
      "cell_type": "code",
      "source": [
        "# Proses crossover\n",
        "def crossover(kromosom1, kromosom2, pC):\n",
        "    if np.random.rand() <= pC:\n",
        "        point = np.random.randint(1, len(kromosom1) - 1)\n",
        "        tmpKromosom1 = kromosom1[:point] + [gene for gene in kromosom2 if gene not in kromosom1[:point]]\n",
        "        tmpKromosom2 = kromosom2[:point] + [gene for gene in kromosom1 if gene not in kromosom2[:point]]\n",
        "        return tmpKromosom1, tmpKromosom2\n",
        "    else:\n",
        "        return kromosom1, kromosom2"
      ],
      "metadata": {
        "id": "Lr_FsctYhkvm"
      },
      "execution_count": 63,
      "outputs": []
    },
    {
      "cell_type": "markdown",
      "source": [
        "mutasi"
      ],
      "metadata": {
        "id": "Ud8Bbi7fhnpt"
      }
    },
    {
      "cell_type": "code",
      "source": [
        "# Proses mutasi\n",
        "def mutasi(kromosom, pM):\n",
        "    for i in range(len(kromosom)):\n",
        "        if np.random.rand() <= pM:\n",
        "            j = np.random.randint(len(kromosom))\n",
        "            kromosom[i], kromosom[j] = kromosom[j], kromosom[i]\n",
        "    return kromosom"
      ],
      "metadata": {
        "id": "lmx7IXy8hoM9"
      },
      "execution_count": 64,
      "outputs": []
    },
    {
      "cell_type": "markdown",
      "source": [
        "pergantian generasi"
      ],
      "metadata": {
        "id": "vOKF7F_Qhrr2"
      }
    },
    {
      "cell_type": "code",
      "source": [
        "# Algoritma genetika steady state\n",
        "def steadyState(jumlahGeneration, populasi, jumlahPopulasi, pC, pM, node):\n",
        "    for _ in range(jumlahGeneration):\n",
        "        fitnesses = [nilaiFitness(kromosom, node) for kromosom in populasi]\n",
        "        new_population = []\n",
        "        while len(new_population) < jumlahPopulasi:\n",
        "            parent1 = rouletteWheelSelection(populasi, fitnesses)\n",
        "            parent2 = rouletteWheelSelection(populasi, fitnesses)\n",
        "            child1, child2 = crossover(parent1, parent2, pC)\n",
        "            child1 = mutasi(child1, pM)\n",
        "            child2 = mutasi(child2, pM)\n",
        "            new_population.extend([child1, child2])\n",
        "        populasi = sorted(new_population, key=lambda x: -nilaiFitness(x, node))[:jumlahPopulasi]\n",
        "    return populasi"
      ],
      "metadata": {
        "id": "dAqoDQs_htBR"
      },
      "execution_count": 65,
      "outputs": []
    },
    {
      "cell_type": "markdown",
      "source": [
        "inisialisasi variabel"
      ],
      "metadata": {
        "id": "l1BlDuVDhziY"
      }
    },
    {
      "cell_type": "code",
      "source": [
        "node = [[0, 0.65, 2.35, 2.1, 1.1, 1.6, 1.6, 2.4],\n",
        "        [0.95, 0, 1.55, 2.3, 1.9, 2.2, 0.95, 3],\n",
        "        [1.75, 1.55, 0, 2.95, 2.75, 2.85, 1.55, 3.65],\n",
        "        [2.1, 2.3, 2.8, 0, 2.1, 2.3, 1.6, 2.9],\n",
        "        [1, 0.95, 1.55, 1.6, 0, 1.5, 1.7, 2.9],\n",
        "        [1.2, 1.4, 2.85, 2.3, 0.7, 8, 1.5, 2.8],\n",
        "        [1.1, 0.95, 1.55, 1.6, 1.3, 1.5, 0, 2.4],\n",
        "        [2.5, 3, 3.65, 2.9, 2.4, 2.8, 2.3, 0]]\n",
        "\n",
        "jumlahGenerasi = 100\n",
        "jumlahIndividu = 20\n",
        "panjangTournament = round(jumlahIndividu/2)\n",
        "pC = 0.7\n",
        "pM = 0.1"
      ],
      "metadata": {
        "id": "VnQ83bM8h02e"
      },
      "execution_count": 66,
      "outputs": []
    },
    {
      "cell_type": "markdown",
      "source": [
        "main program"
      ],
      "metadata": {
        "id": "uB7Tv6gHh3P0"
      }
    },
    {
      "cell_type": "code",
      "source": [
        "# Menghasilkan populasi awal\n",
        "pop = generateKromosom(jumlahIndividu, len(node))\n",
        "\n",
        "# Menjalankan algoritma genetika\n",
        "pop = steadyState(jumlahGenerasi, pop, jumlahIndividu, pC, pM, node)\n",
        "\n",
        "# Menampilkan hasil\n",
        "best_route = pop[0]\n",
        "best_distance = 1 / nilaiFitness(best_route, node)\n",
        "\n",
        "print(\"Generasi ke-\" + str(jumlahGenerasi))\n",
        "print(\"Rute terbaik : \" + str(best_route))\n",
        "print(\"Cost (jarak) : {:.2f} KM\".format(best_distance))"
      ],
      "metadata": {
        "colab": {
          "base_uri": "https://localhost:8080/"
        },
        "id": "wjMqDFLEK-6P",
        "outputId": "89964946-aa64-43b1-b64d-19f11f7fd27a"
      },
      "execution_count": 68,
      "outputs": [
        {
          "output_type": "stream",
          "name": "stdout",
          "text": [
            "Generasi ke-100\n",
            "Rute terbaik : [3, 0, 1, 4, 6, 5, 2, 7]\n",
            "Cost (jarak) : 7.54 KM\n"
          ]
        }
      ]
    }
  ]
}